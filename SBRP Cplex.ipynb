{
 "cells": [
  {
   "cell_type": "code",
   "execution_count": 1,
   "metadata": {},
   "outputs": [],
   "source": [
    "import numpy as np \n",
    "import matplotlib.pyplot as plt"
   ]
  },
  {
   "cell_type": "code",
   "execution_count": 2,
   "metadata": {},
   "outputs": [],
   "source": [
    "C1=[[0,2,850,15900,15900,15900,14800],\n",
    "[2,0,850,15900,15900,15900,14800],\n",
    "[850,850,0,16800,16800,16800,15700],\n",
    "[15200,15200,16100,0,8,14,20],\n",
    "[15200,15200,16100,240,0,6,13],\n",
    "[15200,15200,16100,240,240,0,7],\n",
    "[15200,15200,16100,230,240,240,0]]"
   ]
  },
  {
   "cell_type": "code",
   "execution_count": 2,
   "metadata": {},
   "outputs": [],
   "source": [
    "# C2=[[0,\t350,\t2200,\t1000,\t1300,\t1000,\t1500],\n",
    "# [2000,\t0,\t2600,\t650,\t1000,\t1500,\t1200],\n",
    "# [1500,\t1800,\t0,\t2500,\t2800,\t1500,\t2600],\n",
    "# [2600,\t2000,\t3300,\t0,\t1500,\t1800,\t1300],\n",
    "# [2300,\t2000,\t2900,\t450,\t0,\t1300,\t190],\n",
    "# [1000,\t650,\t1500,\t1300,\t1300,\t0,\t1100],\n",
    "# [2100,\t1800,\t2700,\t650,\t190,\t1100,\t0]]"
   ]
  },
  {
   "cell_type": "code",
   "execution_count": 2,
   "metadata": {},
   "outputs": [],
   "source": [
    "# C3=[[0,\t210,\t1300,\t1300,\t1300,\t1700,\t3600],\n",
    "# [210,\t0,\t1100,\t1100,\t1000,\t1500,\t3400],\n",
    "# [1300,\t1100,\t0,\t6,\t21,\t550,\t4200],\n",
    "# [1300,\t1100,\t6,\t0,\t15,\t550,\t4200],\n",
    "# [1300,\t1000,\t21,\t15,\t0,\t500,\t4200],\n",
    "# [5200,\t4900,\t4200,\t4200,\t5200,\t0,\t3000],\n",
    "# [2600,\t2400,\t2700,\t2700,\t2700,\t2300,\t0]]"
   ]
  },
  {
   "cell_type": "code",
   "execution_count": 8,
   "metadata": {},
   "outputs": [],
   "source": [
    "# C4=[[0,\t2700,\t1000,\t1500,\t3300,\t2400,\t2400],\n",
    "# [2400,\t0,\t1800,\t3100,\t2100,\t1800,\t1800],\n",
    "# [750,\t1100,\t0,\t1100,\t2700,\t2700,\t2700],\n",
    "# [1500,\t2800,\t1100,\t0,\t4500,\t1600,\t1600],\n",
    "# [3300,\t2700,\t2600,\t4100,\t0,\t2900,\t2900],\n",
    "# [2200,\t2000,\t2200,\t1200,\t3700,\t0,\t24],\n",
    "# [2100,\t2000,\t2100,\t1200,\t3700,\t800,\t0]]"
   ]
  },
  {
   "cell_type": "code",
   "execution_count": 3,
   "metadata": {},
   "outputs": [],
   "source": [
    "rnd =np.random\n",
    "rnd.seed(1)"
   ]
  },
  {
   "cell_type": "code",
   "execution_count": 4,
   "metadata": {},
   "outputs": [],
   "source": [
    "n = 5   #Number of students, 122 originally\n",
    "cars = 1\n",
    "Q={1:5}\n",
    "N= [i for i in range (cars,n+cars)]\n",
    "Starts = [i for i in range (0,cars)]\n",
    "K= [i for i in range (0,cars)]\n",
    "School = [6]"
   ]
  },
  {
   "cell_type": "code",
   "execution_count": 5,
   "metadata": {},
   "outputs": [],
   "source": [
    "V = Starts + N + School\n",
    "SE = N + School\n",
    "DS = Starts + N"
   ]
  },
  {
   "cell_type": "code",
   "execution_count": 7,
   "metadata": {},
   "outputs": [],
   "source": [
    "A=[]\n",
    "for i in DS:\n",
    "    for j in SE:\n",
    "        for k in K:\n",
    "            if i!=j:\n",
    "                A.append((i,j,k))"
   ]
  },
  {
   "cell_type": "code",
   "execution_count": 9,
   "metadata": {},
   "outputs": [],
   "source": [
    "c = {(i,j,k): C1[i][j] for (i,j,k) in A}"
   ]
  },
  {
   "cell_type": "code",
   "execution_count": 11,
   "metadata": {},
   "outputs": [],
   "source": [
    "v_k = [(i,k) for i in V for k in K]"
   ]
  },
  {
   "cell_type": "code",
   "execution_count": 13,
   "metadata": {},
   "outputs": [],
   "source": [
    "from docplex.mp.model import Model"
   ]
  },
  {
   "cell_type": "code",
   "execution_count": 14,
   "metadata": {},
   "outputs": [],
   "source": [
    "mod = Model(\"SBRP\")"
   ]
  },
  {
   "cell_type": "code",
   "execution_count": 15,
   "metadata": {},
   "outputs": [],
   "source": [
    "x = mod.binary_var_dict(A,name='x')"
   ]
  },
  {
   "cell_type": "code",
   "execution_count": 16,
   "metadata": {},
   "outputs": [],
   "source": [
    "u = mod.continuous_var_dict(v_k, name='u')"
   ]
  },
  {
   "cell_type": "code",
   "execution_count": 17,
   "metadata": {},
   "outputs": [],
   "source": [
    "mod.minimize(mod.sum(c[i,j,k]*x[i,j,k] for i,j,k in A))"
   ]
  },
  {
   "cell_type": "code",
   "execution_count": 18,
   "metadata": {},
   "outputs": [
    {
     "data": {
      "text/plain": [
       "[docplex.mp.LinearConstraint[](x_(0, 1, 0)+x_(0, 2, 0)+x_(0, 3, 0)+x_(0, 4, 0)+x_(0, 5, 0)+x_(0, 6, 0),EQ,1),\n",
       " docplex.mp.LinearConstraint[](x_(1, 2, 0)+x_(1, 3, 0)+x_(1, 4, 0)+x_(1, 5, 0)+x_(1, 6, 0),EQ,1),\n",
       " docplex.mp.LinearConstraint[](x_(2, 1, 0)+x_(2, 3, 0)+x_(2, 4, 0)+x_(2, 5, 0)+x_(2, 6, 0),EQ,1),\n",
       " docplex.mp.LinearConstraint[](x_(3, 1, 0)+x_(3, 2, 0)+x_(3, 4, 0)+x_(3, 5, 0)+x_(3, 6, 0),EQ,1),\n",
       " docplex.mp.LinearConstraint[](x_(4, 1, 0)+x_(4, 2, 0)+x_(4, 3, 0)+x_(4, 5, 0)+x_(4, 6, 0),EQ,1),\n",
       " docplex.mp.LinearConstraint[](x_(5, 1, 0)+x_(5, 2, 0)+x_(5, 3, 0)+x_(5, 4, 0)+x_(5, 6, 0),EQ,1)]"
      ]
     },
     "execution_count": 18,
     "metadata": {},
     "output_type": "execute_result"
    }
   ],
   "source": [
    "mod.add_constraints(mod.sum(x[i,j,k] for j in SE for k in K if i!=j) == 1 for i in DS)"
   ]
  },
  {
   "cell_type": "code",
   "execution_count": 19,
   "metadata": {},
   "outputs": [
    {
     "data": {
      "text/plain": [
       "[docplex.mp.LinearConstraint[](x_(0, 1, 0)+x_(2, 1, 0)+x_(3, 1, 0)+x_(4, 1, 0)+x_(5, 1, 0),EQ,1),\n",
       " docplex.mp.LinearConstraint[](x_(0, 2, 0)+x_(1, 2, 0)+x_(3, 2, 0)+x_(4, 2, 0)+x_(5, 2, 0),EQ,1),\n",
       " docplex.mp.LinearConstraint[](x_(0, 3, 0)+x_(1, 3, 0)+x_(2, 3, 0)+x_(4, 3, 0)+x_(5, 3, 0),EQ,1),\n",
       " docplex.mp.LinearConstraint[](x_(0, 4, 0)+x_(1, 4, 0)+x_(2, 4, 0)+x_(3, 4, 0)+x_(5, 4, 0),EQ,1),\n",
       " docplex.mp.LinearConstraint[](x_(0, 5, 0)+x_(1, 5, 0)+x_(2, 5, 0)+x_(3, 5, 0)+x_(4, 5, 0),EQ,1),\n",
       " docplex.mp.LinearConstraint[](x_(0, 6, 0)+x_(1, 6, 0)+x_(2, 6, 0)+x_(3, 6, 0)+x_(4, 6, 0)+x_(5, 6, 0),EQ,1)]"
      ]
     },
     "execution_count": 19,
     "metadata": {},
     "output_type": "execute_result"
    }
   ],
   "source": [
    "mod.add_constraints(mod.sum(x[i,j,k] for i in DS for k in K if i!=j ) == 1 for j in SE)"
   ]
  },
  {
   "cell_type": "code",
   "execution_count": 21,
   "metadata": {},
   "outputs": [
    {
     "data": {
      "text/plain": [
       "[docplex.mp.LinearConstraint[](x_(0, 1, 0)+x_(2, 1, 0)+x_(3, 1, 0)+x_(4, 1, 0)+x_(5, 1, 0),EQ,x_(1, 2, 0)+x_(1, 3, 0)+x_(1, 4, 0)+x_(1, 5, 0)+x_(1, 6, 0)),\n",
       " docplex.mp.LinearConstraint[](x_(0, 2, 0)+x_(1, 2, 0)+x_(3, 2, 0)+x_(4, 2, 0)+x_(5, 2, 0),EQ,x_(2, 1, 0)+x_(2, 3, 0)+x_(2, 4, 0)+x_(2, 5, 0)+x_(2, 6, 0)),\n",
       " docplex.mp.LinearConstraint[](x_(0, 3, 0)+x_(1, 3, 0)+x_(2, 3, 0)+x_(4, 3, 0)+x_(5, 3, 0),EQ,x_(3, 1, 0)+x_(3, 2, 0)+x_(3, 4, 0)+x_(3, 5, 0)+x_(3, 6, 0)),\n",
       " docplex.mp.LinearConstraint[](x_(0, 4, 0)+x_(1, 4, 0)+x_(2, 4, 0)+x_(3, 4, 0)+x_(5, 4, 0),EQ,x_(4, 1, 0)+x_(4, 2, 0)+x_(4, 3, 0)+x_(4, 5, 0)+x_(4, 6, 0)),\n",
       " docplex.mp.LinearConstraint[](x_(0, 5, 0)+x_(1, 5, 0)+x_(2, 5, 0)+x_(3, 5, 0)+x_(4, 5, 0),EQ,x_(5, 1, 0)+x_(5, 2, 0)+x_(5, 3, 0)+x_(5, 4, 0)+x_(5, 6, 0))]"
      ]
     },
     "execution_count": 21,
     "metadata": {},
     "output_type": "execute_result"
    }
   ],
   "source": [
    "# when vehicle arrives at customer then it has to leave for another destination\n",
    "# if i!=1\n",
    "mod.add_constraints(mod.sum(x[i,p,k] for i in DS if i!=p) == mod.sum(x[p,j,k] for j in SE if p!=j)for k in K for p in N)"
   ]
  },
  {
   "cell_type": "code",
   "execution_count": 23,
   "metadata": {},
   "outputs": [
    {
     "data": {
      "text/plain": [
       "docplex.mp.LinearConstraint[](x_(0, 1, 0)+x_(0, 2, 0)+x_(0, 3, 0)+x_(0, 4, 0)+x_(0, 5, 0),EQ,1)"
      ]
     },
     "execution_count": 23,
     "metadata": {},
     "output_type": "execute_result"
    }
   ],
   "source": [
    "mod.add_constraint(mod.sum(x[0,j,0] for j in N) == 1)"
   ]
  },
  {
   "cell_type": "code",
   "execution_count": 24,
   "metadata": {},
   "outputs": [
    {
     "data": {
      "text/plain": [
       "docplex.mp.LinearConstraint[](x_(0, 6, 0)+x_(1, 6, 0)+x_(2, 6, 0)+x_(3, 6, 0)+x_(4, 6, 0)+x_(5, 6, 0),EQ,1)"
      ]
     },
     "execution_count": 24,
     "metadata": {},
     "output_type": "execute_result"
    }
   ],
   "source": [
    "mod.add_constraint(mod.sum(x[i,j,0] for i in DS for j in School) == 1)"
   ]
  },
  {
   "cell_type": "code",
   "execution_count": 25,
   "metadata": {},
   "outputs": [],
   "source": [
    "mod.add_indicator_constraints_([mod.indicator_constraint(x[i,j,k],u[i,k]+1==u[j,k]) for i,j,k in A if j!=0 if j!=1])"
   ]
  },
  {
   "cell_type": "code",
   "execution_count": 26,
   "metadata": {},
   "outputs": [
    {
     "data": {
      "text/plain": [
       "[docplex.mp.LinearConstraint[](u_(0, 0),LE,5),\n",
       " docplex.mp.LinearConstraint[](u_(1, 0),LE,5),\n",
       " docplex.mp.LinearConstraint[](u_(2, 0),LE,5),\n",
       " docplex.mp.LinearConstraint[](u_(3, 0),LE,5),\n",
       " docplex.mp.LinearConstraint[](u_(4, 0),LE,5),\n",
       " docplex.mp.LinearConstraint[](u_(5, 0),LE,5),\n",
       " docplex.mp.LinearConstraint[](u_(6, 0),LE,5)]"
      ]
     },
     "execution_count": 26,
     "metadata": {},
     "output_type": "execute_result"
    }
   ],
   "source": [
    "mod.add_constraints(u[i,k]<=Q[k+1] for (i,k) in v_k)"
   ]
  },
  {
   "cell_type": "code",
   "execution_count": 27,
   "metadata": {},
   "outputs": [
    {
     "data": {
      "text/plain": [
       "docplex.mp.LinearConstraint[](u_(0, 0),EQ,0)"
      ]
     },
     "execution_count": 27,
     "metadata": {},
     "output_type": "execute_result"
    }
   ],
   "source": [
    "mod.add_constraint(u[0,0]==0)"
   ]
  },
  {
   "cell_type": "code",
   "execution_count": 28,
   "metadata": {},
   "outputs": [
    {
     "data": {
      "text/plain": [
       "docplex.mp.LinearConstraint[](u_(6, 0),EQ,5)"
      ]
     },
     "execution_count": 28,
     "metadata": {},
     "output_type": "execute_result"
    }
   ],
   "source": [
    "mod.add_constraint(u[6,0]==5)"
   ]
  },
  {
   "cell_type": "code",
   "execution_count": 29,
   "metadata": {},
   "outputs": [
    {
     "name": "stdout",
     "output_type": "stream",
     "text": [
      "CPXPARAM_Read_DataCheck                          1\n",
      "Tried aggregator 2 times.\n",
      "MIP Presolve eliminated 11 rows and 3 columns.\n",
      "MIP Presolve modified 56 coefficients.\n",
      "Aggregator did 15 substitutions.\n",
      "Reduced MIP has 22 rows, 45 columns, and 90 nonzeros.\n",
      "Reduced MIP has 30 binaries, 0 generals, 0 SOSs, and 25 indicators.\n",
      "Presolve time = 0.02 sec. (0.13 ticks)\n",
      "Found incumbent of value 12900.000000 after 0.02 sec. (0.30 ticks)\n",
      "Probing time = 0.00 sec. (0.05 ticks)\n",
      "Cover probing fixed 0 vars, tightened 25 bounds.\n",
      "Tried aggregator 1 time.\n",
      "Reduced MIP has 27 rows, 45 columns, and 100 nonzeros.\n",
      "Reduced MIP has 30 binaries, 0 generals, 0 SOSs, and 20 indicators.\n",
      "Presolve time = 0.02 sec. (0.07 ticks)\n",
      "Probing time = 0.00 sec. (0.05 ticks)\n",
      "Clique table members: 22.\n",
      "MIP emphasis: balance optimality and feasibility.\n",
      "MIP search method: dynamic search.\n",
      "Parallel mode: deterministic, using up to 8 threads.\n",
      "Root relaxation solution time = 0.02 sec. (0.04 ticks)\n",
      "\n",
      "        Nodes                                         Cuts/\n",
      "   Node  Left     Objective  IInf  Best Integer    Best Bound    ItCnt     Gap\n",
      "\n",
      "*     0+    0                        12900.0000        0.0000           100.00%\n",
      "      0     0     8524.0000     4    12900.0000     8524.0000        3   33.92%\n",
      "*     0+    0                         8724.0000     8524.0000             2.29%\n",
      "      0     0        cutoff           8724.0000                      6    0.00%\n",
      "Elapsed time = 0.08 sec. (0.74 ticks, tree = 0.01 MB, solutions = 2)\n",
      "\n",
      "Implied bound cuts applied:  2\n",
      "\n",
      "Root node processing (before b&c):\n",
      "  Real time             =    0.09 sec. (0.74 ticks)\n",
      "Parallel b&c, 8 threads:\n",
      "  Real time             =    0.00 sec. (0.00 ticks)\n",
      "  Sync time (average)   =    0.00 sec.\n",
      "  Wait time (average)   =    0.00 sec.\n",
      "                          ------------\n",
      "Total (root+branch&cut) =    0.09 sec. (0.74 ticks)\n"
     ]
    }
   ],
   "source": [
    "solution = mod.solve(log_output = True)"
   ]
  },
  {
   "cell_type": "code",
   "execution_count": 30,
   "metadata": {},
   "outputs": [
    {
     "name": "stdout",
     "output_type": "stream",
     "text": [
      "solution for: SBRP\n",
      "objective: 8724\n",
      "x_(0, 3, 0)=1\n",
      "x_(1, 4, 0)=1\n",
      "x_(2, 1, 0)=1\n",
      "x_(3, 2, 0)=1\n",
      "x_(4, 5, 0)=1\n",
      "x_(5, 6, 0)=1\n",
      "u_(1, 0)=2.000\n",
      "u_(2, 0)=2.000\n",
      "u_(3, 0)=1.000\n",
      "u_(4, 0)=3.000\n",
      "u_(5, 0)=4.000\n",
      "u_(6, 0)=5.000\n",
      "\n"
     ]
    }
   ],
   "source": [
    "print(solution)"
   ]
  },
  {
   "cell_type": "code",
   "execution_count": 31,
   "metadata": {},
   "outputs": [
    {
     "name": "stdout",
     "output_type": "stream",
     "text": [
      "[(0, 3, 0), (1, 4, 0), (2, 1, 0), (3, 2, 0), (4, 5, 0), (5, 6, 0)]\n"
     ]
    }
   ],
   "source": [
    "arcs =  [a for a in A if x[a].solution_value>0.8]\n",
    "print(arcs)"
   ]
  }
 ],
 "metadata": {
  "kernelspec": {
   "display_name": "Python 3",
   "language": "python",
   "name": "python3"
  },
  "language_info": {
   "codemirror_mode": {
    "name": "ipython",
    "version": 3
   },
   "file_extension": ".py",
   "mimetype": "text/x-python",
   "name": "python",
   "nbconvert_exporter": "python",
   "pygments_lexer": "ipython3",
   "version": "3.6.8"
  }
 },
 "nbformat": 4,
 "nbformat_minor": 2
}
